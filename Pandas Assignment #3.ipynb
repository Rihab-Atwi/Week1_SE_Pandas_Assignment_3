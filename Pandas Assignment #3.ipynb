{
 "cells": [
  {
   "cell_type": "markdown",
   "id": "3f2f1777",
   "metadata": {},
   "source": [
    "## Part 1"
   ]
  },
  {
   "cell_type": "markdown",
   "id": "b534dc8e",
   "metadata": {},
   "source": [
    "Numerical variables are often thought of as being continuous, meaning that the values can take on any real number. However, there are some numerical variables that are actually categorical, even though they are measured on a continuous scale. These variables are called ordinal variables.\n",
    "\n",
    "1. Discrete Numerical Variables:\n",
    "- Discrete numerical variables are those that can only take on specific, distinct values within a certain range. These values are often integers and represent counts or categories. While these variables are numerical, they can be treated as categorical in certain situations.\n",
    "\n",
    "- Consider a dataset of families, where each row represents a family and the numerical variable \"Number of Children\" represents the count of children in each family. While the number of children is a numerical value, it's also a category: families can have 0, 1, 2, 3, or more children. In this context, \"Number of Children\" can be treated as a categorical variable.\n",
    "\n",
    "Suppose we have customer ratings for a product, ranging from 1 to 5, representing \"Very Dissatisfied,\" \"Dissatisfied,\" \"Neutral,\" \"Satisfied,\" and \"Very Satisfied.\" Although these ratings are numerical, they represent categories and can be treated as a categorical variable for sentiment analysis.\n",
    "\n",
    "2. Ordinal Variables:\n",
    "Ordinal variables have a natural order, but the difference between each order is not necessarily equal. For example, the variable \"education level\" is an ordinal variable. It can be measured on a scale of 1 to 5, where 1 is \"less than high school diploma\" and 5 is \"doctoral degree.\" This means that we know that a person with a doctoral degree has a higher education level than a person with a high school diploma, but we don't know by how much.\n",
    "\n",
    "Ordinal variables are important to keep in mind when doing statistical analysis. Because they have a natural order, we can sometimes treat them as continuous variables, but we need to be careful not to make assumptions about the size of the differences between the categories.\n",
    "\n",
    "**Here are some examples of numerical variables that can be considered categorical:**\n",
    "- Education level\n",
    "- Rankings (e.g., a restaurant rating)\n",
    "- Grades (e.g., an A, B, C, D, or F)\n",
    "- Severity of a disease (e.g., mild, moderate, severe)\n",
    "\n",
    "In conclusion, there are some numerical variables that can be considered categorical. These variables are called ordinal variables or Discrete Numerical Variables. Ordinal variables have a natural order, but the difference between each order is not necessarily equal."
   ]
  },
  {
   "cell_type": "markdown",
   "id": "f311b340",
   "metadata": {},
   "source": [
    "# Part2"
   ]
  },
  {
   "cell_type": "code",
   "execution_count": 39,
   "id": "1fbcd275",
   "metadata": {},
   "outputs": [],
   "source": [
    "import pandas as pd\n",
    "import numpy as np"
   ]
  },
  {
   "cell_type": "code",
   "execution_count": 40,
   "id": "20b1334b",
   "metadata": {},
   "outputs": [],
   "source": [
    "# Load the kc_house_data dataset\n",
    "df = pd.read_csv('kc_house_data.csv')"
   ]
  },
  {
   "cell_type": "code",
   "execution_count": 41,
   "id": "856e853f",
   "metadata": {},
   "outputs": [
    {
     "name": "stdout",
     "output_type": "stream",
     "text": [
      "<class 'pandas.core.frame.DataFrame'>\n",
      "RangeIndex: 200 entries, 0 to 199\n",
      "Data columns (total 4 columns):\n",
      " #   Column       Non-Null Count  Dtype  \n",
      "---  ------       --------------  -----  \n",
      " 0   bedrooms     200 non-null    int64  \n",
      " 1   bathrooms    200 non-null    float64\n",
      " 2   sqft_living  200 non-null    int64  \n",
      " 3   price        200 non-null    float64\n",
      "dtypes: float64(2), int64(2)\n",
      "memory usage: 6.4 KB\n"
     ]
    }
   ],
   "source": [
    "# Take a subset of the dataset\n",
    "columns = ['bedrooms', 'bathrooms', 'sqft_living', 'price']\n",
    "subset = df[columns].head(200)\n",
    "subset.info()"
   ]
  },
  {
   "cell_type": "markdown",
   "id": "66ee5828",
   "metadata": {},
   "source": [
    "**Randomly generate missing values for each selected column, with a probability of 10%, 20%, or 30% for each selected column.**"
   ]
  },
  {
   "cell_type": "code",
   "execution_count": 42,
   "id": "79549f1c",
   "metadata": {},
   "outputs": [],
   "source": [
    "# Introduce missing values pourcentages \n",
    "missing_percentages = [0.1, 0.2, 0.3]"
   ]
  },
  {
   "cell_type": "code",
   "execution_count": 43,
   "id": "6a20d54a",
   "metadata": {},
   "outputs": [
    {
     "name": "stdout",
     "output_type": "stream",
     "text": [
      "<class 'pandas.core.frame.DataFrame'>\n",
      "RangeIndex: 200 entries, 0 to 199\n",
      "Data columns (total 4 columns):\n",
      " #   Column       Non-Null Count  Dtype  \n",
      "---  ------       --------------  -----  \n",
      " 0   bedrooms     180 non-null    float64\n",
      " 1   bathrooms    200 non-null    float64\n",
      " 2   sqft_living  200 non-null    int64  \n",
      " 3   price        200 non-null    float64\n",
      "dtypes: float64(3), int64(1)\n",
      "memory usage: 6.4 KB\n"
     ]
    }
   ],
   "source": [
    "# missing values for 'bedrooms' (pourcentages=0.1)\n",
    "num_missing_bedrooms = int(subset['bedrooms'].size * missing_percentages[0])\n",
    "subset.loc[np.random.choice(subset.index, num_missing_bedrooms, replace=False), 'bedrooms'] = np.nan\n",
    "subset.info()"
   ]
  },
  {
   "cell_type": "markdown",
   "id": "f5bb0ce9",
   "metadata": {},
   "source": [
    "**We can see that only the bedrooms column has missing values because we introduced missing values to it.**"
   ]
  },
  {
   "cell_type": "code",
   "execution_count": 44,
   "id": "7171267e",
   "metadata": {},
   "outputs": [
    {
     "name": "stdout",
     "output_type": "stream",
     "text": [
      "<class 'pandas.core.frame.DataFrame'>\n",
      "RangeIndex: 200 entries, 0 to 199\n",
      "Data columns (total 4 columns):\n",
      " #   Column       Non-Null Count  Dtype  \n",
      "---  ------       --------------  -----  \n",
      " 0   bedrooms     180 non-null    float64\n",
      " 1   bathrooms    160 non-null    float64\n",
      " 2   sqft_living  200 non-null    int64  \n",
      " 3   price        200 non-null    float64\n",
      "dtypes: float64(3), int64(1)\n",
      "memory usage: 6.4 KB\n"
     ]
    }
   ],
   "source": [
    "# missing values for 'bathrooms' (pourcentages=0.2)\n",
    "num_missing_bathrooms = int(subset['bathrooms'].size * missing_percentages[1])\n",
    "subset.loc[np.random.choice(subset.index, num_missing_bathrooms, replace=False), 'bathrooms'] = np.nan\n",
    "subset.info()"
   ]
  },
  {
   "cell_type": "markdown",
   "id": "3655dd39",
   "metadata": {},
   "source": [
    "**We can see that both bedrooms and bathrooms have missing values because we introduced missing values to them, but with different numbers because we used different percentages.**"
   ]
  },
  {
   "cell_type": "code",
   "execution_count": 45,
   "id": "fa86cb22",
   "metadata": {},
   "outputs": [
    {
     "name": "stdout",
     "output_type": "stream",
     "text": [
      "<class 'pandas.core.frame.DataFrame'>\n",
      "RangeIndex: 200 entries, 0 to 199\n",
      "Data columns (total 4 columns):\n",
      " #   Column       Non-Null Count  Dtype  \n",
      "---  ------       --------------  -----  \n",
      " 0   bedrooms     180 non-null    float64\n",
      " 1   bathrooms    160 non-null    float64\n",
      " 2   sqft_living  140 non-null    float64\n",
      " 3   price        200 non-null    float64\n",
      "dtypes: float64(4)\n",
      "memory usage: 6.4 KB\n"
     ]
    }
   ],
   "source": [
    "#missing values for 'sqft_living'\n",
    "num_missing_sqft_living = int(subset['sqft_living'].size * missing_percentages[2])\n",
    "subset.loc[np.random.choice(subset.index, num_missing_sqft_living, replace=False), 'sqft_living'] = np.nan\n",
    "subset.info()"
   ]
  },
  {
   "cell_type": "markdown",
   "id": "a1b9f4f2",
   "metadata": {},
   "source": [
    "**The DataFrame has missing values in the bedrooms, bathrooms, and sqft_living columns because we introduced missing values to them with different percentages. However, the prices column does not have any missing values because we did not introduce missing values to it.**"
   ]
  },
  {
   "cell_type": "code",
   "execution_count": 46,
   "id": "18f05126",
   "metadata": {},
   "outputs": [
    {
     "name": "stdout",
     "output_type": "stream",
     "text": [
      "<class 'pandas.core.frame.DataFrame'>\n",
      "Int64Index: 103 entries, 0 to 194\n",
      "Data columns (total 4 columns):\n",
      " #   Column       Non-Null Count  Dtype  \n",
      "---  ------       --------------  -----  \n",
      " 0   bedrooms     103 non-null    float64\n",
      " 1   bathrooms    103 non-null    float64\n",
      " 2   sqft_living  103 non-null    float64\n",
      " 3   price        103 non-null    float64\n",
      "dtypes: float64(4)\n",
      "memory usage: 4.0 KB\n"
     ]
    }
   ],
   "source": [
    "# Drop rows with any missing values\n",
    "df1_dropped_rows = subset.dropna()\n",
    "df1_dropped_rows.info()"
   ]
  },
  {
   "cell_type": "markdown",
   "id": "e9209b9f",
   "metadata": {},
   "source": [
    "**Dropping all rows with missing values is inefficient because it reduces the number of entries from 200 to 103. This is a significant loss of data, which can be harmful to the analysis.**"
   ]
  },
  {
   "cell_type": "code",
   "execution_count": 49,
   "id": "5afdf22e",
   "metadata": {},
   "outputs": [
    {
     "name": "stdout",
     "output_type": "stream",
     "text": [
      "<class 'pandas.core.frame.DataFrame'>\n",
      "RangeIndex: 200 entries, 0 to 199\n",
      "Data columns (total 4 columns):\n",
      " #   Column       Non-Null Count  Dtype  \n",
      "---  ------       --------------  -----  \n",
      " 0   bedrooms     200 non-null    float64\n",
      " 1   bathrooms    200 non-null    float64\n",
      " 2   sqft_living  200 non-null    float64\n",
      " 3   price        200 non-null    float64\n",
      "dtypes: float64(4)\n",
      "memory usage: 6.4 KB\n"
     ]
    }
   ],
   "source": [
    "#Replace missing values with the median of each column\n",
    "df2_with_median = subset.fillna(subset.median())\n",
    "df2_with_median.info()"
   ]
  },
  {
   "cell_type": "code",
   "execution_count": 51,
   "id": "e64bc7c8",
   "metadata": {},
   "outputs": [
    {
     "name": "stdout",
     "output_type": "stream",
     "text": [
      "<class 'pandas.core.frame.DataFrame'>\n",
      "Int64Index: 131 entries, 0 to 199\n",
      "Data columns (total 4 columns):\n",
      " #   Column       Non-Null Count  Dtype  \n",
      "---  ------       --------------  -----  \n",
      " 0   bedrooms     111 non-null    float64\n",
      " 1   bathrooms    105 non-null    float64\n",
      " 2   sqft_living  97 non-null     float64\n",
      " 3   price        131 non-null    float64\n",
      "dtypes: float64(4)\n",
      "memory usage: 5.1 KB\n"
     ]
    }
   ],
   "source": [
    "#Drop rows based on a specific condition\n",
    "condition = subset['bedrooms'] > 3\n",
    "df3_condition = subset[~condition]\n",
    "df3_condition.info()"
   ]
  },
  {
   "cell_type": "markdown",
   "id": "5de3e74d",
   "metadata": {},
   "source": [
    "**There are 131 entries in the dataset, and 69 of them have more than 3 bedrooms.**"
   ]
  },
  {
   "cell_type": "code",
   "execution_count": 53,
   "id": "765a1ac3",
   "metadata": {},
   "outputs": [
    {
     "data": {
      "text/html": [
       "<div>\n",
       "<style scoped>\n",
       "    .dataframe tbody tr th:only-of-type {\n",
       "        vertical-align: middle;\n",
       "    }\n",
       "\n",
       "    .dataframe tbody tr th {\n",
       "        vertical-align: top;\n",
       "    }\n",
       "\n",
       "    .dataframe thead th {\n",
       "        text-align: right;\n",
       "    }\n",
       "</style>\n",
       "<table border=\"1\" class=\"dataframe\">\n",
       "  <thead>\n",
       "    <tr style=\"text-align: right;\">\n",
       "      <th></th>\n",
       "      <th>price</th>\n",
       "    </tr>\n",
       "  </thead>\n",
       "  <tbody>\n",
       "    <tr>\n",
       "      <th>0</th>\n",
       "      <td>221900.0</td>\n",
       "    </tr>\n",
       "    <tr>\n",
       "      <th>1</th>\n",
       "      <td>538000.0</td>\n",
       "    </tr>\n",
       "    <tr>\n",
       "      <th>2</th>\n",
       "      <td>180000.0</td>\n",
       "    </tr>\n",
       "    <tr>\n",
       "      <th>3</th>\n",
       "      <td>604000.0</td>\n",
       "    </tr>\n",
       "    <tr>\n",
       "      <th>4</th>\n",
       "      <td>510000.0</td>\n",
       "    </tr>\n",
       "  </tbody>\n",
       "</table>\n",
       "</div>"
      ],
      "text/plain": [
       "      price\n",
       "0  221900.0\n",
       "1  538000.0\n",
       "2  180000.0\n",
       "3  604000.0\n",
       "4  510000.0"
      ]
     },
     "execution_count": 53,
     "metadata": {},
     "output_type": "execute_result"
    }
   ],
   "source": [
    "#Drop columns with any missing values\n",
    "df4_dropped_columns = subset.dropna(axis=1)\n",
    "df4_dropped_columns.head()"
   ]
  },
  {
   "cell_type": "markdown",
   "id": "c97137d2",
   "metadata": {},
   "source": [
    "## Fill missing values using forward fill (new method)"
   ]
  },
  {
   "cell_type": "markdown",
   "id": "af967ae9",
   "metadata": {},
   "source": [
    "**A forward fill (often abbreviated as \"ffill\") involves propagating the last known non-missing value forward along the column until a new non-missing value is encountered. In other words, if there's a missing value in a cell, the value from the previous row (the one above it) is copied into that cell. This process is performed column-wise.**"
   ]
  },
  {
   "attachments": {
    "0_YwUB4dPvVs2GQHLV.png": {
     "image/png": "[encoded data removed]"
    }
   },
   "cell_type": "markdown",
   "id": "157a80dd",
   "metadata": {},
   "source": [
    "![0_YwUB4dPvVs2GQHLV.png](attachment:0_YwUB4dPvVs2GQHLV.png)"
   ]
  },
  {
   "cell_type": "code",
   "execution_count": 54,
   "id": "1dc02831",
   "metadata": {},
   "outputs": [],
   "source": [
    "# Fill missing values using forward fill\n",
    "df5_ffill = subset.fillna(method='ffill')"
   ]
  },
  {
   "cell_type": "code",
   "execution_count": 56,
   "id": "a8d5fba6",
   "metadata": {},
   "outputs": [
    {
     "data": {
      "text/html": [
       "<div>\n",
       "<style scoped>\n",
       "    .dataframe tbody tr th:only-of-type {\n",
       "        vertical-align: middle;\n",
       "    }\n",
       "\n",
       "    .dataframe tbody tr th {\n",
       "        vertical-align: top;\n",
       "    }\n",
       "\n",
       "    .dataframe thead th {\n",
       "        text-align: right;\n",
       "    }\n",
       "</style>\n",
       "<table border=\"1\" class=\"dataframe\">\n",
       "  <thead>\n",
       "    <tr style=\"text-align: right;\">\n",
       "      <th></th>\n",
       "      <th>bedrooms</th>\n",
       "      <th>bathrooms</th>\n",
       "      <th>sqft_living</th>\n",
       "      <th>price</th>\n",
       "    </tr>\n",
       "  </thead>\n",
       "  <tbody>\n",
       "    <tr>\n",
       "      <th>0</th>\n",
       "      <td>3.0</td>\n",
       "      <td>1.00</td>\n",
       "      <td>1180.0</td>\n",
       "      <td>221900.0</td>\n",
       "    </tr>\n",
       "    <tr>\n",
       "      <th>1</th>\n",
       "      <td>3.0</td>\n",
       "      <td>2.25</td>\n",
       "      <td>2570.0</td>\n",
       "      <td>538000.0</td>\n",
       "    </tr>\n",
       "    <tr>\n",
       "      <th>2</th>\n",
       "      <td>2.0</td>\n",
       "      <td>NaN</td>\n",
       "      <td>770.0</td>\n",
       "      <td>180000.0</td>\n",
       "    </tr>\n",
       "    <tr>\n",
       "      <th>3</th>\n",
       "      <td>4.0</td>\n",
       "      <td>NaN</td>\n",
       "      <td>1960.0</td>\n",
       "      <td>604000.0</td>\n",
       "    </tr>\n",
       "    <tr>\n",
       "      <th>4</th>\n",
       "      <td>3.0</td>\n",
       "      <td>NaN</td>\n",
       "      <td>NaN</td>\n",
       "      <td>510000.0</td>\n",
       "    </tr>\n",
       "  </tbody>\n",
       "</table>\n",
       "</div>"
      ],
      "text/plain": [
       "   bedrooms  bathrooms  sqft_living     price\n",
       "0       3.0       1.00       1180.0  221900.0\n",
       "1       3.0       2.25       2570.0  538000.0\n",
       "2       2.0        NaN        770.0  180000.0\n",
       "3       4.0        NaN       1960.0  604000.0\n",
       "4       3.0        NaN          NaN  510000.0"
      ]
     },
     "execution_count": 56,
     "metadata": {},
     "output_type": "execute_result"
    }
   ],
   "source": [
    "subset.head()"
   ]
  },
  {
   "cell_type": "code",
   "execution_count": 57,
   "id": "340fbdba",
   "metadata": {},
   "outputs": [
    {
     "data": {
      "text/html": [
       "<div>\n",
       "<style scoped>\n",
       "    .dataframe tbody tr th:only-of-type {\n",
       "        vertical-align: middle;\n",
       "    }\n",
       "\n",
       "    .dataframe tbody tr th {\n",
       "        vertical-align: top;\n",
       "    }\n",
       "\n",
       "    .dataframe thead th {\n",
       "        text-align: right;\n",
       "    }\n",
       "</style>\n",
       "<table border=\"1\" class=\"dataframe\">\n",
       "  <thead>\n",
       "    <tr style=\"text-align: right;\">\n",
       "      <th></th>\n",
       "      <th>bedrooms</th>\n",
       "      <th>bathrooms</th>\n",
       "      <th>sqft_living</th>\n",
       "      <th>price</th>\n",
       "    </tr>\n",
       "  </thead>\n",
       "  <tbody>\n",
       "    <tr>\n",
       "      <th>0</th>\n",
       "      <td>3.0</td>\n",
       "      <td>1.00</td>\n",
       "      <td>1180.0</td>\n",
       "      <td>221900.0</td>\n",
       "    </tr>\n",
       "    <tr>\n",
       "      <th>1</th>\n",
       "      <td>3.0</td>\n",
       "      <td>2.25</td>\n",
       "      <td>2570.0</td>\n",
       "      <td>538000.0</td>\n",
       "    </tr>\n",
       "    <tr>\n",
       "      <th>2</th>\n",
       "      <td>2.0</td>\n",
       "      <td>2.25</td>\n",
       "      <td>770.0</td>\n",
       "      <td>180000.0</td>\n",
       "    </tr>\n",
       "    <tr>\n",
       "      <th>3</th>\n",
       "      <td>4.0</td>\n",
       "      <td>2.25</td>\n",
       "      <td>1960.0</td>\n",
       "      <td>604000.0</td>\n",
       "    </tr>\n",
       "    <tr>\n",
       "      <th>4</th>\n",
       "      <td>3.0</td>\n",
       "      <td>2.25</td>\n",
       "      <td>1960.0</td>\n",
       "      <td>510000.0</td>\n",
       "    </tr>\n",
       "  </tbody>\n",
       "</table>\n",
       "</div>"
      ],
      "text/plain": [
       "   bedrooms  bathrooms  sqft_living     price\n",
       "0       3.0       1.00       1180.0  221900.0\n",
       "1       3.0       2.25       2570.0  538000.0\n",
       "2       2.0       2.25        770.0  180000.0\n",
       "3       4.0       2.25       1960.0  604000.0\n",
       "4       3.0       2.25       1960.0  510000.0"
      ]
     },
     "execution_count": 57,
     "metadata": {},
     "output_type": "execute_result"
    }
   ],
   "source": [
    "df5_ffill.head()"
   ]
  },
  {
   "cell_type": "markdown",
   "id": "74c6e4ab",
   "metadata": {},
   "source": [
    "**A backward fill (often abbreviated as \"bfill\") involves propagating the next known non-missing value backward along the column until a new non-missing value is encountered. In other words, if there's a missing value in a cell, the value from the following row (the one below it) is copied into that cell. This process is performed column-wise.**"
   ]
  },
  {
   "attachments": {
    "bfill.png": {
     "image/png": "[encoded data removed]"
    }
   },
   "cell_type": "markdown",
   "id": "0e300f8c",
   "metadata": {},
   "source": [
    "![bfill.png](attachment:bfill.png)"
   ]
  },
  {
   "cell_type": "code",
   "execution_count": 55,
   "id": "3b646fe5",
   "metadata": {},
   "outputs": [],
   "source": [
    "#Fill missing values using backward fill\n",
    "df5_bfill = subset.fillna(method='bfill')"
   ]
  },
  {
   "cell_type": "code",
   "execution_count": 60,
   "id": "10e47be5",
   "metadata": {},
   "outputs": [
    {
     "data": {
      "text/html": [
       "<div>\n",
       "<style scoped>\n",
       "    .dataframe tbody tr th:only-of-type {\n",
       "        vertical-align: middle;\n",
       "    }\n",
       "\n",
       "    .dataframe tbody tr th {\n",
       "        vertical-align: top;\n",
       "    }\n",
       "\n",
       "    .dataframe thead th {\n",
       "        text-align: right;\n",
       "    }\n",
       "</style>\n",
       "<table border=\"1\" class=\"dataframe\">\n",
       "  <thead>\n",
       "    <tr style=\"text-align: right;\">\n",
       "      <th></th>\n",
       "      <th>bedrooms</th>\n",
       "      <th>bathrooms</th>\n",
       "      <th>sqft_living</th>\n",
       "      <th>price</th>\n",
       "    </tr>\n",
       "  </thead>\n",
       "  <tbody>\n",
       "    <tr>\n",
       "      <th>0</th>\n",
       "      <td>3.0</td>\n",
       "      <td>1.00</td>\n",
       "      <td>1180.0</td>\n",
       "      <td>221900.0</td>\n",
       "    </tr>\n",
       "    <tr>\n",
       "      <th>1</th>\n",
       "      <td>3.0</td>\n",
       "      <td>2.25</td>\n",
       "      <td>2570.0</td>\n",
       "      <td>538000.0</td>\n",
       "    </tr>\n",
       "    <tr>\n",
       "      <th>2</th>\n",
       "      <td>2.0</td>\n",
       "      <td>NaN</td>\n",
       "      <td>770.0</td>\n",
       "      <td>180000.0</td>\n",
       "    </tr>\n",
       "    <tr>\n",
       "      <th>3</th>\n",
       "      <td>4.0</td>\n",
       "      <td>NaN</td>\n",
       "      <td>1960.0</td>\n",
       "      <td>604000.0</td>\n",
       "    </tr>\n",
       "    <tr>\n",
       "      <th>4</th>\n",
       "      <td>3.0</td>\n",
       "      <td>NaN</td>\n",
       "      <td>NaN</td>\n",
       "      <td>510000.0</td>\n",
       "    </tr>\n",
       "    <tr>\n",
       "      <th>5</th>\n",
       "      <td>4.0</td>\n",
       "      <td>NaN</td>\n",
       "      <td>NaN</td>\n",
       "      <td>1230000.0</td>\n",
       "    </tr>\n",
       "    <tr>\n",
       "      <th>6</th>\n",
       "      <td>3.0</td>\n",
       "      <td>2.25</td>\n",
       "      <td>NaN</td>\n",
       "      <td>257500.0</td>\n",
       "    </tr>\n",
       "    <tr>\n",
       "      <th>7</th>\n",
       "      <td>3.0</td>\n",
       "      <td>1.50</td>\n",
       "      <td>NaN</td>\n",
       "      <td>291850.0</td>\n",
       "    </tr>\n",
       "    <tr>\n",
       "      <th>8</th>\n",
       "      <td>3.0</td>\n",
       "      <td>NaN</td>\n",
       "      <td>1780.0</td>\n",
       "      <td>229500.0</td>\n",
       "    </tr>\n",
       "    <tr>\n",
       "      <th>9</th>\n",
       "      <td>3.0</td>\n",
       "      <td>2.50</td>\n",
       "      <td>NaN</td>\n",
       "      <td>323000.0</td>\n",
       "    </tr>\n",
       "  </tbody>\n",
       "</table>\n",
       "</div>"
      ],
      "text/plain": [
       "   bedrooms  bathrooms  sqft_living      price\n",
       "0       3.0       1.00       1180.0   221900.0\n",
       "1       3.0       2.25       2570.0   538000.0\n",
       "2       2.0        NaN        770.0   180000.0\n",
       "3       4.0        NaN       1960.0   604000.0\n",
       "4       3.0        NaN          NaN   510000.0\n",
       "5       4.0        NaN          NaN  1230000.0\n",
       "6       3.0       2.25          NaN   257500.0\n",
       "7       3.0       1.50          NaN   291850.0\n",
       "8       3.0        NaN       1780.0   229500.0\n",
       "9       3.0       2.50          NaN   323000.0"
      ]
     },
     "execution_count": 60,
     "metadata": {},
     "output_type": "execute_result"
    }
   ],
   "source": [
    "subset.head(10)"
   ]
  },
  {
   "cell_type": "code",
   "execution_count": 61,
   "id": "9c1fa48b",
   "metadata": {},
   "outputs": [
    {
     "data": {
      "text/html": [
       "<div>\n",
       "<style scoped>\n",
       "    .dataframe tbody tr th:only-of-type {\n",
       "        vertical-align: middle;\n",
       "    }\n",
       "\n",
       "    .dataframe tbody tr th {\n",
       "        vertical-align: top;\n",
       "    }\n",
       "\n",
       "    .dataframe thead th {\n",
       "        text-align: right;\n",
       "    }\n",
       "</style>\n",
       "<table border=\"1\" class=\"dataframe\">\n",
       "  <thead>\n",
       "    <tr style=\"text-align: right;\">\n",
       "      <th></th>\n",
       "      <th>bedrooms</th>\n",
       "      <th>bathrooms</th>\n",
       "      <th>sqft_living</th>\n",
       "      <th>price</th>\n",
       "    </tr>\n",
       "  </thead>\n",
       "  <tbody>\n",
       "    <tr>\n",
       "      <th>0</th>\n",
       "      <td>3.0</td>\n",
       "      <td>1.00</td>\n",
       "      <td>1180.0</td>\n",
       "      <td>221900.0</td>\n",
       "    </tr>\n",
       "    <tr>\n",
       "      <th>1</th>\n",
       "      <td>3.0</td>\n",
       "      <td>2.25</td>\n",
       "      <td>2570.0</td>\n",
       "      <td>538000.0</td>\n",
       "    </tr>\n",
       "    <tr>\n",
       "      <th>2</th>\n",
       "      <td>2.0</td>\n",
       "      <td>2.25</td>\n",
       "      <td>770.0</td>\n",
       "      <td>180000.0</td>\n",
       "    </tr>\n",
       "    <tr>\n",
       "      <th>3</th>\n",
       "      <td>4.0</td>\n",
       "      <td>2.25</td>\n",
       "      <td>1960.0</td>\n",
       "      <td>604000.0</td>\n",
       "    </tr>\n",
       "    <tr>\n",
       "      <th>4</th>\n",
       "      <td>3.0</td>\n",
       "      <td>2.25</td>\n",
       "      <td>1780.0</td>\n",
       "      <td>510000.0</td>\n",
       "    </tr>\n",
       "    <tr>\n",
       "      <th>5</th>\n",
       "      <td>4.0</td>\n",
       "      <td>2.25</td>\n",
       "      <td>1780.0</td>\n",
       "      <td>1230000.0</td>\n",
       "    </tr>\n",
       "    <tr>\n",
       "      <th>6</th>\n",
       "      <td>3.0</td>\n",
       "      <td>2.25</td>\n",
       "      <td>1780.0</td>\n",
       "      <td>257500.0</td>\n",
       "    </tr>\n",
       "    <tr>\n",
       "      <th>7</th>\n",
       "      <td>3.0</td>\n",
       "      <td>1.50</td>\n",
       "      <td>1780.0</td>\n",
       "      <td>291850.0</td>\n",
       "    </tr>\n",
       "    <tr>\n",
       "      <th>8</th>\n",
       "      <td>3.0</td>\n",
       "      <td>2.50</td>\n",
       "      <td>1780.0</td>\n",
       "      <td>229500.0</td>\n",
       "    </tr>\n",
       "    <tr>\n",
       "      <th>9</th>\n",
       "      <td>3.0</td>\n",
       "      <td>2.50</td>\n",
       "      <td>3560.0</td>\n",
       "      <td>323000.0</td>\n",
       "    </tr>\n",
       "  </tbody>\n",
       "</table>\n",
       "</div>"
      ],
      "text/plain": [
       "   bedrooms  bathrooms  sqft_living      price\n",
       "0       3.0       1.00       1180.0   221900.0\n",
       "1       3.0       2.25       2570.0   538000.0\n",
       "2       2.0       2.25        770.0   180000.0\n",
       "3       4.0       2.25       1960.0   604000.0\n",
       "4       3.0       2.25       1780.0   510000.0\n",
       "5       4.0       2.25       1780.0  1230000.0\n",
       "6       3.0       2.25       1780.0   257500.0\n",
       "7       3.0       1.50       1780.0   291850.0\n",
       "8       3.0       2.50       1780.0   229500.0\n",
       "9       3.0       2.50       3560.0   323000.0"
      ]
     },
     "execution_count": 61,
     "metadata": {},
     "output_type": "execute_result"
    }
   ],
   "source": [
    "df5_bfill.head(10)"
   ]
  }
 ],
 "metadata": {
  "kernelspec": {
   "display_name": "Python 3 (ipykernel)",
   "language": "python",
   "name": "python3"
  },
  "language_info": {
   "codemirror_mode": {
    "name": "ipython",
    "version": 3
   },
   "file_extension": ".py",
   "mimetype": "text/x-python",
   "name": "python",
   "nbconvert_exporter": "python",
   "pygments_lexer": "ipython3",
   "version": "3.11.3"
  }
 },
 "nbformat": 4,
 "nbformat_minor": 5
}
